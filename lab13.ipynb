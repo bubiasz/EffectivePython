{
 "cells": [
  {
   "cell_type": "markdown",
   "metadata": {},
   "source": [
    "# Laboratorium 9"
   ]
  },
  {
   "cell_type": "code",
   "execution_count": null,
   "metadata": {},
   "outputs": [],
   "source": [
    "import numpy as np\n",
    "import matplotlib.pyplot as plt\n",
    "from sklearn.preprocessing import MinMaxScaler\n",
    "from sklearn.datasets import load_svmlight_file\n",
    "\n",
    "%matplotlib inline"
   ]
  },
  {
   "cell_type": "markdown",
   "metadata": {},
   "source": [
    "### 0. Wczytanie danych\n",
    "Używając metody `load_svmlight_file` z modułu `sklearn` załaduj plik `lab13_files/breast_cancer`, który składa się z 2 elementów: macierzy `X` o wymiarach `683 x 10` oraz wektora `y` o dlugosci `683`. Macierz `X` opisuje badania 683 pacjentow, a wektor `y` ich diagnozy. "
   ]
  },
  {
   "cell_type": "code",
   "execution_count": null,
   "metadata": {
    "collapsed": true
   },
   "outputs": [],
   "source": [
    "X, y = load_svmlight_file('./breast-cancer.txt')\n",
    "X = X.toarray()"
   ]
  },
  {
   "cell_type": "markdown",
   "metadata": {},
   "source": [
    "### 1. Preprocessing\n",
    "1.1 Korzystajac z `numpy.where` przenumeruj wektor y, tzn zamień wartości 2 i 4 na -1 i +1. \n",
    "\n",
    "1.2 Przeskaluj macierz X, tak żeby wartości w każdej kolumnie mieściły się w zakresie [0,1], innymi słowy przeskaluj niezależnie każdą kolumne $X_j$ wg wzoru:\n",
    "\n",
    "\n",
    "$$\n",
    "X_j = \\frac{X_j-\\min(X_j)}{\\max(X_j)-\\min(X_j)}\n",
    "$$"
   ]
  },
  {
   "cell_type": "code",
   "execution_count": null,
   "metadata": {
    "collapsed": true
   },
   "outputs": [],
   "source": [
    "# 1.1\n",
    "y = np.where(y == 2, -1, y)\n",
    "y = np.where(y == 4, 1, y)\n",
    "\n",
    "# 1.2\n",
    "min_values = np.min(X, axis=0)\n",
    "max_values = np.max(X, axis=0)\n",
    "X = (X - min_values) / (max_values - min_values)\n",
    "\n",
    "# output\n",
    "y, X"
   ]
  },
  {
   "cell_type": "markdown",
   "metadata": {},
   "source": [
    "### 2. Wizualizacja\n",
    "Narysuj dane używajac biblioteki `matplotlib`. Użyj wymiarów 1 i 2 z macierzy X, a jako kolory użyj wektora y. Pobaw sie parametrami \"s\" oraz \"alpha\" metody `plt.scatter` żeby uzyskać czytelną wizualizacje, np. taką jak poniżej."
   ]
  },
  {
   "cell_type": "markdown",
   "metadata": {},
   "source": [
    "<img src=\"lab13_files/d.png\">"
   ]
  },
  {
   "cell_type": "code",
   "execution_count": null,
   "metadata": {
    "collapsed": true
   },
   "outputs": [],
   "source": [
    "plt.scatter(X[:, 1], X[:, 2], s=200, c=y, alpha=0.5)"
   ]
  },
  {
   "cell_type": "markdown",
   "metadata": {},
   "source": [
    "### 3. Regresja \n",
    "\n",
    "Przeprowadź regresje liniową wg wzoru:\n",
    "$$\n",
    "\\beta = (X^TX)^{-1}X^Ty\n",
    "$$"
   ]
  },
  {
   "cell_type": "code",
   "execution_count": null,
   "metadata": {
    "collapsed": true
   },
   "outputs": [],
   "source": [
    "beta = np.linalg.inv(X.T @ X) @ X.T @ y\n",
    "\n",
    "beta"
   ]
  },
  {
   "cell_type": "markdown",
   "metadata": {},
   "source": [
    "### 4. Wizualizacja Regresji\n",
    "\n",
    "Zwizualizuj dane po zrzutowaniu na $\\beta$ używajac metody `plt.hist`, tzn. narysuj histogramy $\\beta X_+$ oraz\n",
    "$\\beta X_-$ gdzie $X_+$ to wiersze $X$ dla których $y=+1$ i analogicznie $X_-$. Postaraj się wygenerować czytelny wykres podobny do tego poniżej."
   ]
  },
  {
   "cell_type": "markdown",
   "metadata": {},
   "source": [
    "<img src=\"lab13_files/lr1.png\">"
   ]
  },
  {
   "cell_type": "code",
   "execution_count": null,
   "metadata": {
    "collapsed": true
   },
   "outputs": [],
   "source": [
    "X_plus = X[y == 1]\n",
    "X_minus = X[y == -1]\n",
    "\n",
    "proj_X_plus = np.dot(X_plus, beta)\n",
    "proj_X_minus = np.dot(X_minus, beta)\n",
    "\n",
    "plt.hist(proj_X_plus, bins=40, alpha=0.5, color='green')\n",
    "plt.hist(proj_X_minus, bins=40, alpha=0.5, color='purple')\n",
    "\n",
    "plt.show()"
   ]
  },
  {
   "cell_type": "markdown",
   "metadata": {},
   "source": [
    "### 5. Klasyfikacja\n",
    "\n",
    "Przeprowadź \"klasyfikacje\" naszych pacjentów, ci, którzy zostali zrzutowani na wartość ujemną dostają etykiete $-1$, a ci którzy na wartość dodatnia - etykiete $+1$"
   ]
  },
  {
   "cell_type": "code",
   "execution_count": null,
   "metadata": {
    "collapsed": true
   },
   "outputs": [],
   "source": [
    "y = np.where(beta @ X.T < 0, -1, 1)\n",
    "\n",
    "y"
   ]
  },
  {
   "cell_type": "markdown",
   "metadata": {},
   "source": [
    "### 6. Ewaluacja\n",
    "\n",
    "Policz jak dokładny jest ten model, tzn. jak duży jest zbiór\n",
    "$ \\{ (x_i,y_i) : \\mathrm{sign}(\\beta x_i) = y_i \\} $\n",
    "w stosunku do rozmiaru całego $y$\n",
    "\n",
    "Powinno udać się uzyskać wynik na poziomie 93-94%"
   ]
  },
  {
   "cell_type": "code",
   "execution_count": null,
   "metadata": {
    "collapsed": true
   },
   "outputs": [],
   "source": [
    "len(set(tuple([tuple(X[i]), y[i]]) for i in range(len(y)) if np.sign(beta @ X[i]) == y[i])) / len(y)"
   ]
  },
  {
   "cell_type": "markdown",
   "metadata": {},
   "source": [
    "### 7. Regularyzacja \n",
    "Dodaj parametr `C` do regresji liniowej\n",
    "$$\n",
    "\\beta = (X^TX + \\tfrac{1}{C}I)^{-1}X^Ty\n",
    "$$\n",
    "\n",
    "gdzie $I$ - macierz identyczności. \n",
    "\n",
    "Dla jakiej wartości `C` wynik jest najlepszy? Jaki wynik udało Ci sie uzyskać?"
   ]
  },
  {
   "cell_type": "code",
   "execution_count": null,
   "metadata": {
    "collapsed": true
   },
   "outputs": [],
   "source": [
    "best: tuple = [0, 0]\n",
    "\n",
    "for power in range(100, -100, -1):\n",
    "    custom_beta = np.linalg.inv(X.T @ X + (1 / 10 ** power) * np.eye(X.shape[1])) @ X.T @ y\n",
    "    score = len(set(tuple([tuple(X[i]), y[i]]) for i in range(len(y)) if np.sign(X[i] @ custom_beta) == y[i])) / len(y)\n",
    "\n",
    "    if score > best[0]:\n",
    "        best = [score, power]\n",
    "\n",
    "print(f\"Best result {best[0]} for  c = 10 ** {best[1]}\")"
   ]
  },
  {
   "cell_type": "markdown",
   "metadata": {},
   "source": [
    "### 8. Gratulacje\n",
    "Właśnie stworzyłeś/-aś swój pierwszy klasyfikator (statystyczny model predykcji). \n",
    "\n",
    "Spróbuj zastosować go do innych danych."
   ]
  },
  {
   "cell_type": "markdown",
   "metadata": {},
   "source": [
    "### Zadanie dodatkowe\n",
    "\n",
    "Zaimplementuj powyższą metode jako klase `LRClassifier` wyposażoną w następujące metody:\n",
    "\n",
    "* konstruktor przyjmujący dwa parametry: \n",
    "    * `C` - stała z równania \n",
    "    * `scale` - zmienna boolowska (domyslnie `True`) która określa czy macierz `X` ma byc automatycznie znormalizowana (przeskalowana do `[0,1]`)\n",
    "* `.fit(X, y)` która spowoduje obliczenie $\\beta$, dla `X` - dowolnej macierzy, `y` - wektora etykiet skladajacego sie z dwóch unikalnych wartosci (mogą to byc np. 2 różne stringi)\n",
    "* `.predict(X)`, która zwróci wektor zawierajacy na `i`tej pozycji etykiete \"przewidzianą\" przez nasz model (pamiętaj o skalowaniu jesli `scale==True`!)\n",
    "\n",
    "Przykladowe użycie:\n",
    "\n",
    "    clf = LRClassifier(C=100)\n",
    "    Xt = np.array([[1, 0], [1, 1], [1, 2], [1, 3], [1, 4]])\n",
    "    yt = np.array(['x', 'x', 'y', 'y', 'y'])\n",
    "    clf.fit(Xt, yt)\n",
    "    X = np.array([[1, -1], [1, 0.9], [1, 2.1]])\n",
    "    print(clf.predict(X)) # ['x', 'x', 'y']"
   ]
  },
  {
   "cell_type": "code",
   "execution_count": null,
   "metadata": {},
   "outputs": [],
   "source": [
    "class LRClassifier:\n",
    "    def __init__(self, C):\n",
    "        self.c = C\n",
    "        self.beta = None\n",
    "        self.scaler = MinMaxScaler()\n",
    "        self.value_dict: dict = {}\n",
    "    \n",
    "    def fit(self, X, y):\n",
    "        X = self.scaler.fit_transform(X)\n",
    "        X = np.c_[np.ones((X.shape[0], 1)), X]\n",
    "        \n",
    "        y_classes = np.unique(y)\n",
    "        self.value_dict[y_classes[0]] = -1\n",
    "        self.value_dict[y_classes[1]] = 1\n",
    "        y = np.where(y == y_classes[0], -1, 1)\n",
    "        \n",
    "        _, features = X.shape\n",
    "\n",
    "        self.beta = np.linalg.inv(X.T @ X + (1 / self.c) * np.eye(features)) @ X.T @ y\n",
    "    \n",
    "    def predict(self, X):\n",
    "        X = self.scaler.transform(X)\n",
    "        X = np.c_[np.ones((X.shape[0], 1)), X]\n",
    "\n",
    "        y_pred = X @ self.beta\n",
    "\n",
    "        return np.array([key for pred in np.where(y_pred <= 0, -1, 1) for key, value in self.value_dict.items() if value == pred])\n",
    "    \n",
    "clf = LRClassifier(C=100)\n",
    "Xt = np.array([[1, 0], [1, 1], [1, 2], [1, 3], [1, 4]])\n",
    "yt = np.array(['x', 'x', 'y', 'y', 'y'])\n",
    "clf.fit(Xt, yt)\n",
    "\n",
    "X = np.array([[1, -1], [1, 0.9], [1, 2.1]])\n",
    "print(clf.predict(X)) # ['x', 'x', 'y']"
   ]
  }
 ],
 "metadata": {
  "kernelspec": {
   "display_name": "Python 3",
   "language": "python",
   "name": "python3"
  },
  "language_info": {
   "codemirror_mode": {
    "name": "ipython",
    "version": 3
   },
   "file_extension": ".py",
   "mimetype": "text/x-python",
   "name": "python",
   "nbconvert_exporter": "python",
   "pygments_lexer": "ipython3",
   "version": "3.9.6"
  }
 },
 "nbformat": 4,
 "nbformat_minor": 1
}
